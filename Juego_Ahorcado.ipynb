{
 "cells": [
  {
   "attachments": {},
   "cell_type": "markdown",
   "metadata": {},
   "source": [
    "## Juego del Ahorcado\n",
    "Desarrolla el juego del ahorcado en python. En cada turno irá mostrando por pantalla ```_ _ _ _ _``` las rayas bajas correspondientes al número de letras que tiene la palabra a adivinar. El usuario deberá insertar una letra y, si esa letra existe, se mostrará o mostrarán las letras acertadas ```S _ S _ _``` en sus posiciones correspondientes. \n",
    "\n",
    "Si falla, se mostrará el número de errores que lleva y, si lleva x errores, entonces se mostrará \"Fin del juego\"."
   ]
  },
  {
   "cell_type": "markdown",
   "metadata": {},
   "source": [
    "1. Inicializa el juego: declara una palabra a adivinar y muestra por pantalla la palabra oculta. (En clase)\n"
   ]
  },
  {
   "cell_type": "markdown",
   "metadata": {},
   "source": [
    "\n",
    "```python\n",
    "_ _ _ _ _ _ _ _\n",
    "```"
   ]
  },
  {
   "cell_type": "code",
   "execution_count": 4,
   "metadata": {},
   "outputs": [
    {
     "name": "stdout",
     "output_type": "stream",
     "text": [
      "['_', '_', '_', '_', '_', '_']\n"
     ]
    }
   ],
   "source": [
    "vidas = 1\n",
    "palabra_adivinar = \"python\"\n",
    "palabra_oculta = list(\"_\"*len(palabra_adivinar))\n",
    "print(palabra_oculta)\n"
   ]
  },
  {
   "cell_type": "markdown",
   "metadata": {},
   "source": [
    "2. Funcionamiento turnos: mediante un bucle genera el sistema de turnos donde el usuario introduce una letra y le va mostrando su progreso y sus vidas. (En clase)"
   ]
  },
  {
   "cell_type": "code",
   "execution_count": 10,
   "metadata": {},
   "outputs": [
    {
     "name": "stdout",
     "output_type": "stream",
     "text": [
      "Has acertado. La letra 't' está en la palabra.\n",
      "Has acertado. La letra 'y' está en la palabra.\n",
      "Has fallado. La letra 'a' no esta en la palabra\n",
      "Te quedan: 0\n",
      "['_', '_', '_', '_', '_', '_']\n"
     ]
    }
   ],
   "source": [
    "while vidas > 0:\n",
    "    letra_usuario = input(\"Introduce una letra:\")\n",
    "    \n",
    "    if letra_usuario in palabra_adivinar:\n",
    "        print(f\"Has acertado. La letra '{letra_usuario}' está en la palabra.\")\n",
    "\n",
    "        # Actualizar el progreso con la letra correcta\n",
    "\n",
    "        #for letra_usuario in range(len(palabra_adivinar)): \n",
    "            #if palabra_adivinar[letra_usuario] == letra_usuario:\n",
    "                #print(progreso[letra_usuario] == letra_usuario)            \n",
    "        \n",
    "           \n",
    "    else:\n",
    "        print(f\"Has fallado. La letra '{letra_usuario}' no esta en la palabra\")\n",
    "        print(\"Te quedan:\", vidas - 1)\n",
    "        print(palabra_oculta)\n",
    "        break\n",
    "\n",
    "        \n",
    "\n",
    "\n"
   ]
  },
  {
   "cell_type": "markdown",
   "metadata": {},
   "source": [
    "3. Desarrolla la finalización de la partida, tanto si gana como si pierde."
   ]
  },
  {
   "cell_type": "code",
   "execution_count": 11,
   "metadata": {},
   "outputs": [
    {
     "name": "stdout",
     "output_type": "stream",
     "text": [
      "FIN DEL JUEGO. YOU LOSEEE... La palabra era 'python'\n"
     ]
    }
   ],
   "source": [
    "if palabra_adivinar == palabra_oculta:\n",
    "    print(f\" FIN DEL JUEGO. YOU WIINN!!! La palabra era '{palabra_adivinar}'\")\n",
    "\n",
    "else:\n",
    "    print(f\"FIN DEL JUEGO. YOU LOSEEE... La palabra era '{palabra_adivinar}'\")"
   ]
  },
  {
   "cell_type": "markdown",
   "metadata": {},
   "source": [
    "4. Juego completo:"
   ]
  },
  {
   "cell_type": "code",
   "execution_count": 1,
   "metadata": {},
   "outputs": [
    {
     "name": "stdout",
     "output_type": "stream",
     "text": [
      "['_', '_', '_', '_', '_', '_', '_']\n",
      "Has acertado. La letra 'm' está en la palabra.\n",
      "['m', '_', '_', '_', '_', '_', '_']\n",
      "Has acertado. La letra 'a' está en la palabra.\n",
      "['m', '_', '_', '_', '_', 'a', '_']\n",
      "Has fallado. La letra 't' no esta en la palabra\n",
      "Te quedan: 2\n",
      "['m', '_', '_', '_', '_', 'a', '_']\n",
      "Has fallado. La letra '8' no esta en la palabra\n",
      "Te quedan: 1\n",
      "['m', '_', '_', '_', '_', 'a', '_']\n",
      "Has fallado. La letra 'p' no esta en la palabra\n",
      "Te quedan: 0\n",
      "['m', '_', '_', '_', '_', 'a', '_']\n",
      "FIN DEL JUEGO. YOU LOSEEE... La palabra era 'mohedas'\n"
     ]
    }
   ],
   "source": [
    "vidas = 3\n",
    "palabra_adivinar = \"Mohedas\".lower()\n",
    "palabra_oculta = list(\"_\"*len(palabra_adivinar))\n",
    "\n",
    "\n",
    "print(palabra_oculta)\n",
    "\n",
    "# Comprobacion de las letras entre la introducida por el usuario y las letras de la palabra oculta.\n",
    "\n",
    "while vidas > 0 and \"_\" in palabra_oculta:\n",
    "    letra_usuario = input(\"Introduce una letra:\")\n",
    "    \n",
    "    if letra_usuario in palabra_adivinar:\n",
    "        print(f\"Has acertado. La letra '{letra_usuario}' está en la palabra.\")\n",
    "\n",
    "\n",
    "\n",
    "        # Actualizar el progreso con la letra correcta (buscado en internet).  (Intentar con enumerate)\n",
    "\n",
    "        for i in range(len(palabra_adivinar)): \n",
    "            if palabra_adivinar[i] == letra_usuario:\n",
    "                palabra_oculta[i] = letra_usuario\n",
    "\n",
    "        print(palabra_oculta)               \n",
    "        \n",
    "\n",
    "\n",
    "    else:\n",
    "        print(f\"Has fallado. La letra '{letra_usuario}' no esta en la palabra\")\n",
    "        print(\"Te quedan:\", vidas - 1)\n",
    "        print(palabra_oculta)\n",
    "        vidas = vidas -1\n",
    "\n",
    "# Cierre del juego, para cuando ganas o pierdes.\n",
    "\n",
    "if list(palabra_adivinar) == palabra_oculta:   # Al no poder comprobar las letras nunca se cumple la funcion, revisar cuando se entablezca la comprobacion.\n",
    "    print(f\" FIN DEL JUEGO. YOU WIINN!!! La palabra era '{palabra_adivinar}'\")\n",
    "\n",
    "else:\n",
    "    print(f\"FIN DEL JUEGO. YOU LOSEEE... La palabra era '{palabra_adivinar}'\")\n",
    "\n",
    "\n",
    "\n",
    "\n",
    "    "
   ]
  },
  {
   "cell_type": "markdown",
   "metadata": {},
   "source": [
    "5. Encapsula el juego en una función llamada ```jugar_ahorcado()``` con la palabra a adivinar y el número de vidas para seleccionar la dificultad como argumentos de entrada."
   ]
  },
  {
   "cell_type": "code",
   "execution_count": 12,
   "metadata": {},
   "outputs": [],
   "source": [
    "def jugar_ahorcado(vidas, palabra_adivinar, palabra_oculta):\n",
    "\n",
    "    vidas = 1\n",
    "    palabra_adivinar = \"python\"\n",
    "    palabra_oculta = list(\"_\"*len(palabra_adivinar))\n",
    "    print(palabra_oculta)\n",
    "\n",
    "    while vidas > 0:\n",
    "        letra_usuario = input(\"Introduce una letra:\")     # Introduccion de letra por parte del usuario.\n",
    "    \n",
    "        if letra_usuario in palabra_adivinar:             # Comprobacion de la letra introducida con las letras de la palabra a adivinar.\n",
    "            print(f\"Has acertado. La letra '{letra_usuario}' está en la palabra.\")\n",
    "        \n",
    "           \n",
    "        else:\n",
    "            print(f\"Has fallado. La letra '{letra_usuario}' no esta en la palabra\")\n",
    "            print(\"Te quedan:\", vidas - 1)\n",
    "            print(palabra_oculta)\n",
    "        break\n",
    "        \n",
    "    if palabra_adivinar == palabra_oculta:                # Desarrollo del fin de juego\n",
    "        print(f\" FIN DEL JUEGO. YOU WIINN!!! La palabra era '{palabra_adivinar}'\")\n",
    "\n",
    "    else:\n",
    "        print(f\"FIN DEL JUEGO. YOU LOSEEE... La palabra era '{palabra_adivinar}'\")  \n",
    "\n"
   ]
  }
 ],
 "metadata": {
  "kernelspec": {
   "display_name": "Python 3",
   "language": "python",
   "name": "python3"
  },
  "language_info": {
   "codemirror_mode": {
    "name": "ipython",
    "version": 3
   },
   "file_extension": ".py",
   "mimetype": "text/x-python",
   "name": "python",
   "nbconvert_exporter": "python",
   "pygments_lexer": "ipython3",
   "version": "3.13.0"
  },
  "orig_nbformat": 4
 },
 "nbformat": 4,
 "nbformat_minor": 2
}
